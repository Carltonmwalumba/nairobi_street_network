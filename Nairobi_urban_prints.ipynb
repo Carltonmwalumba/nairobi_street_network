{
 "cells": [
  {
   "cell_type": "markdown",
   "id": "4350ea93-6937-45f5-b251-2ca75911e187",
   "metadata": {},
   "source": [
    "# EXTRACTING NAIROBI STREET NETWORK AND BUILDING FOOTPRINT\n",
    "Understanding the street network as well as urban footprint is an important aspect in transport planning as well as urban development planning\n",
    "In this notebook, I attempt to access the attributes of Nairobi City, extract the road network and building footprint then save the attributes as shapefiles for use in other GIS Software such as QGIS."
   ]
  },
  {
   "cell_type": "raw",
   "id": "c79182d1-f36d-4f9b-bb8e-eedad30e711f",
   "metadata": {},
   "source": [
    "# Importing the necessary packages\n",
    "import osmnx as ox\n",
    "import networkx as nx\n",
    "import geopandas as gpd\n",
    "import matplotlib.pyplot as plt\n",
    "%matplotlib inline\n",
    "import fiona"
   ]
  },
  {
   "cell_type": "raw",
   "id": "2b8615f4-d1a4-462d-9ee2-524e8eb43312",
   "metadata": {},
   "source": [
    "import warnings\n",
    "# Ignore Warnings\n",
    "warnings.filterwarnings(\"ignore\", category=FutureWarning)"
   ]
  },
  {
   "cell_type": "raw",
   "id": "dc815e43-d9a1-4884-b134-c0e7879f6a5e",
   "metadata": {},
   "source": [
    "# Specify the name used to search for the data\n",
    "place_name = \"Nairobi, CBD division, Starehe, Nairobi County, Nairobi\""
   ]
  },
  {
   "cell_type": "markdown",
   "id": "511f3fef-c6f6-47f7-b4d5-b651a49ab38e",
   "metadata": {},
   "source": [
    "### Get street network\n",
    "\n",
    "OSMnx lets you download street network data and build topologically-corrected street networks, project and plot the networks, and save the street network as geopackage or shapefiles for later use. \n",
    "\n",
    "You can specify several different *network types*:\n",
    "* 'drive' - get drivable public streets (but not service roads)\n",
    "* 'drive_service' - get drivable streets, including service roads\n",
    "* 'walk' - get all streets and paths that pedestrians can use (this network type ignores one-way directionality)\n",
    "* 'bike' - get all streets and paths that cyclists can use\n",
    "* 'all' - download all non-private OSM streets and paths (this is the default network type unless you specify a different one)\n",
    "* 'all_private' - download all OSM streets and paths, including private-access ones\n",
    "\n",
    "Or *simplify* it, which will clean up nodes that are not intersections or dead-ends while retaining the complete edge geometry.\n",
    "\n",
    "For further understanding of OSMnx check the documantation on [OSMnx_documentation](https://osmnx.readthedocs.io/en/stable/getting-started.html)\n",
    " For a more in-depth demonstration of creating street networks, see [OSMnx examples](https://github.com/gboeing/osmnx)."
   ]
  },
  {
   "cell_type": "raw",
   "id": "37bca555-ea0b-4526-90ab-146230b1703d",
   "metadata": {},
   "source": [
    "#Fetch OSM street network from the location\n",
    "graph = ox.graph_from_place(place_name, simplify=True, network_type=\"all\")"
   ]
  },
  {
   "cell_type": "raw",
   "id": "c52a51cb-7959-4211-bbe2-d01b9e720ab6",
   "metadata": {},
   "source": [
    "# Check data tye of the graph\n",
    "type(graph)"
   ]
  },
  {
   "cell_type": "raw",
   "id": "c649bc10-a552-4e98-9bf2-5ce3faa04db1",
   "metadata": {},
   "source": [
    "# Project graph to UTM\n",
    "graph = ox.project_graph(graph)"
   ]
  },
  {
   "cell_type": "raw",
   "id": "0dcf75f3-effe-4143-9b02-4040f00dba76",
   "metadata": {},
   "source": [
    "# Plot the graph nodes and edges\n",
    "fig, ax = ox.plot_graph(graph, edge_linewidth=0.5, node_size=5, node_color='red')"
   ]
  },
  {
   "cell_type": "markdown",
   "id": "077ab523-dacc-4540-935f-3d9a63fb7aa5",
   "metadata": {},
   "source": [
    "## Downloading OSM Geospatial Entities with OSMnx \n",
    "OSMnx lets you download spatial \"place boundary\" geometries from OpenStreetMap, save them to shapefiles, project them, and plot them. For a more in-depth demonstration of creating these shapefiles, see [OSMnx examples](https://github.com/gboeing/osmnx).\n",
    "\n",
    "# Place polygon\n",
    "Let's also plot the Polygon that represents our area of interest. We can retrieve the polygon geometry using the *geocode_to_gdf()* function"
   ]
  },
  {
   "cell_type": "raw",
   "id": "a6b64081-7eb3-45ef-9313-737d606a0e4c",
   "metadata": {},
   "source": [
    "# Get the area polygon\n",
    "#Returns a GeoDataFrame based on the specified place name query\n",
    "area = ox.geocode_to_gdf(place_name)"
   ]
  },
  {
   "cell_type": "raw",
   "id": "862b0555-61c2-4f35-9794-7f8d05561bf1",
   "metadata": {},
   "source": [
    "area.head"
   ]
  },
  {
   "cell_type": "raw",
   "id": "5b7d56f3-a1cd-464e-b7b7-4a4cda8e2bf0",
   "metadata": {},
   "source": [
    "# Get the polygon for Nairobi, project it to UTM and plot it\n",
    "area_proj = ox.project_gdf(area)\n",
    "ax=area_proj.plot(fc='grey', ec='none')\n",
    "_=ax.axis(\"off\")"
   ]
  },
  {
   "cell_type": "markdown",
   "id": "3ceb5a52-15d9-44cb-b162-45cd9d426ea3",
   "metadata": {},
   "source": [
    "## Building Footprint"
   ]
  },
  {
   "cell_type": "raw",
   "id": "7e28ee8a-7f38-432e-9fe5-44fe819c2452",
   "metadata": {},
   "source": [
    "#Download building footprint of Nairobi\n",
    "buildings = ox.features_from_place(place_name, tags={'building':True})"
   ]
  },
  {
   "cell_type": "raw",
   "id": "67c0c6d3-65e5-474f-b828-18f3f8130fbe",
   "metadata": {},
   "source": [
    "len(buildings)"
   ]
  },
  {
   "cell_type": "raw",
   "id": "4887be76-4a77-407f-9f65-629d8850e6e3",
   "metadata": {},
   "source": [
    "buildings.head()"
   ]
  },
  {
   "cell_type": "raw",
   "id": "c99773e8-e251-457a-8a52-bcd6cde8ef62",
   "metadata": {
    "scrolled": true
   },
   "source": [
    "buildings.columns"
   ]
  },
  {
   "cell_type": "raw",
   "id": "4571c754-da5c-471b-a7b2-ee681b3ce516",
   "metadata": {},
   "source": [
    "#Project to UTM\n",
    "buildings_proj = ox.project_gdf(buildings)"
   ]
  },
  {
   "cell_type": "raw",
   "id": "df5d0793-8082-4f54-9b50-1a8cdbdd4d82",
   "metadata": {},
   "source": [
    "fig, ax = ox.plot_footprints(buildings_proj, figsize=(5, 5), color='black', bgcolor='w')\n",
    "_=ax.axis(\"off\")"
   ]
  },
  {
   "cell_type": "raw",
   "id": "6b08009c-1f0b-4dd0-ad45-fa1ac51d0ec2",
   "metadata": {},
   "source": [
    "# Retrieve Nodes and edges\n",
    "nodes, edges = ox.graph_to_gdfs(graph)"
   ]
  },
  {
   "cell_type": "raw",
   "id": "fb215cf1-2e8e-4eba-a939-7af12e8b602b",
   "metadata": {},
   "source": [
    "nodes.head()"
   ]
  },
  {
   "cell_type": "raw",
   "id": "b82af373-290a-487a-a70d-38d1276edc4c",
   "metadata": {},
   "source": [
    "edges.head()"
   ]
  },
  {
   "cell_type": "raw",
   "id": "33729f73-4720-4950-a77c-2b25225878b0",
   "metadata": {},
   "source": [
    "#Plotting the data\n",
    "fig, ax = plt.subplots(1, 3, figsize=(18, 4))\n",
    "ax0, ax1, ax2 = ax\n",
    "\n",
    "#Plot the area\n",
    "area.plot(ax=ax0, facecolor='black')\n",
    "fig\n",
    "#Plot the network edges\n",
    "edges.plot(ax=ax1, linewidth=1, edgecolor='red')\n",
    "fig\n",
    "#Plot the buildings\n",
    "buildings.plot(ax=ax2, facecolor='blue')\n",
    "fig"
   ]
  },
  {
   "cell_type": "raw",
   "id": "d727f39e-284c-41f5-a285-9d11e3ba125e",
   "metadata": {},
   "source": [
    "# Remove axis and add titles\n",
    "ax0.axis('off')\n",
    "ax0.set_title('Nairobi area', y=-0.1)\n",
    "ax1.axis('off')\n",
    "ax1.set_title('Nairobi network', y=-0.1)\n",
    "ax2.axis('off')\n",
    "ax2.set_title('Nairobi buildings', y=-0.1)\n",
    "fig"
   ]
  },
  {
   "cell_type": "raw",
   "id": "62137170-7eba-42a6-a801-bf3d81fb7532",
   "metadata": {},
   "source": [
    "# Reproject to EPSG 32737\n",
    "from pyproj import CRS\n",
    "projection =CRS.from_epsg(32737)\n",
    "# Reproject layres\n",
    "area = area.to_crs(projection)\n",
    "edges = edges.to_crs(projection)\n",
    "buildings = buildings.to_crs(projection)"
   ]
  },
  {
   "cell_type": "raw",
   "id": "4def9e90-f56f-4f68-b444-8884de03ad00",
   "metadata": {},
   "source": [
    "#Create a new plot with the re-projected layers qverlapped:\n",
    "fig, ax = plt.subplots(figsize=(18, 4))\n",
    "ax.axis(\"off\")\n",
    "# Plot the area\n",
    "area.plot(ax=ax, facecolor='black')\n",
    "# plot the network\n",
    "edges.plot(ax=ax, linewidth=0.8, edgecolor='white')\n",
    "# plot the buildings\n",
    "buildings.plot(ax=ax, facecolor='red')\n",
    "plt.tight_layout()\n",
    "fig"
   ]
  },
  {
   "cell_type": "raw",
   "id": "4d4986a2-a458-4e2b-84e4-b9e3db407992",
   "metadata": {},
   "source": [
    "# Exporting the features as geopackages\n",
    "ox.save_graph_geopackage(graph, filepath=\"data/roads.gpkg\")\n",
    "buildings.geometry.to_file(\"data/nairobi.gpkg\", driver='GPKG', layer='buildings')\n",
    "area.geometry.to_file(\"data/nairobi.gpkg\", driver='GPKG', layer='area')"
   ]
  },
  {
   "cell_type": "code",
   "execution_count": null,
   "id": "fb5cf71e-775e-4150-99fa-0b213e81e089",
   "metadata": {},
   "outputs": [],
   "source": []
  }
 ],
 "metadata": {
  "kernelspec": {
   "display_name": "Python 3 (ipykernel)",
   "language": "python",
   "name": "python3"
  },
  "language_info": {
   "codemirror_mode": {
    "name": "ipython",
    "version": 3
   },
   "file_extension": ".py",
   "mimetype": "text/x-python",
   "name": "python",
   "nbconvert_exporter": "python",
   "pygments_lexer": "ipython3",
   "version": "3.12.7"
  }
 },
 "nbformat": 4,
 "nbformat_minor": 5
}
